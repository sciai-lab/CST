{
 "cells": [
  {
   "cell_type": "markdown",
   "source": [
    "# Steiner problem benchmark\n",
    "In this jupyter notebook the mSTreg heuristic will be used to approximate the optimum Steiner tree."
   ],
   "metadata": {
    "collapsed": false
   }
  },
  {
   "cell_type": "code",
   "execution_count": 15,
   "outputs": [
    {
     "name": "stdout",
     "output_type": "stream",
     "text": [
      "The autoreload extension is already loaded. To reload it, use:\n",
      "  %reload_ext autoreload\n"
     ]
    }
   ],
   "source": [
    "get_ipython().run_line_magic('load_ext', 'autoreload')\n",
    "get_ipython().run_line_magic('autoreload', '2')\n"
   ],
   "metadata": {
    "collapsed": false,
    "pycharm": {
     "name": "#%%\n",
     "is_executing": true
    },
    "ExecuteTime": {
     "end_time": "2024-04-18T09:51:11.365631926Z",
     "start_time": "2024-04-18T09:51:11.191818938Z"
    }
   }
  },
  {
   "cell_type": "code",
   "execution_count": 16,
   "outputs": [
    {
     "name": "stdout",
     "output_type": "stream",
     "text": [
      "/export/home/enfita/Code/CST_official_github_repo\n",
      "/media/hdb/enfita/pycharm-professional-2021.3.3/plugins/python/helpers-pro/jupyter_debug\n"
     ]
    }
   ],
   "source": [
    "import os\n",
    "import sys\n",
    "if 'Benchmark_OR' in os.getcwd():\n",
    "\tos.chdir('../../..')\n",
    "\tsys.path.insert(0,os.getcwd())\n",
    "print(os.getcwd())\n",
    "print(sys.path[0])"
   ],
   "metadata": {
    "collapsed": false,
    "pycharm": {
     "name": "#%%\n"
    },
    "ExecuteTime": {
     "end_time": "2024-04-18T09:51:11.368103603Z",
     "start_time": "2024-04-18T09:51:11.259796106Z"
    }
   }
  },
  {
   "cell_type": "code",
   "execution_count": 17,
   "outputs": [],
   "source": [
    "import numpy as np\n",
    "import matplotlib.pyplot as plt\n",
    "import itertools\n",
    "\n",
    "from lib.CST.T_datacls import T_data\n",
    "from Experiments.Benchmark_mSTreg.Benchmark_OR.load_ORdata import load_ORdata_instance\n",
    "\n",
    "import pandas as pd\n",
    "\n",
    "from tqdm import tqdm"
   ],
   "metadata": {
    "collapsed": false,
    "pycharm": {
     "name": "#%%\n"
    },
    "ExecuteTime": {
     "end_time": "2024-04-18T09:51:11.368513678Z",
     "start_time": "2024-04-18T09:51:11.260162740Z"
    }
   }
  },
  {
   "cell_type": "markdown",
   "source": [
    "parameter"
   ],
   "metadata": {
    "collapsed": false
   }
  },
  {
   "cell_type": "code",
   "execution_count": 18,
   "outputs": [],
   "source": [
    "save = False\n",
    "maxiter_mSTreg=20\n",
    "maxfreq_mSTreg=5\n",
    "\n",
    "alpha_ls=np.linspace(0,1,11)\n",
    "merging_criterium='tryall'\n",
    "order_criterium='closest'\n",
    "criterium_BP_position_update='median'\n",
    "\n",
    "num_samples=[50,100]\n",
    "num_problems = range(1, 16)"
   ],
   "metadata": {
    "collapsed": false,
    "pycharm": {
     "name": "#%%\n"
    },
    "ExecuteTime": {
     "end_time": "2024-04-18T09:51:11.369049725Z",
     "start_time": "2024-04-18T09:51:11.266235065Z"
    }
   }
  },
  {
   "cell_type": "markdown",
   "source": [
    "### Compute costs of the different algorithms"
   ],
   "metadata": {
    "collapsed": false
   }
  },
  {
   "cell_type": "code",
   "execution_count": 19,
   "outputs": [
    {
     "name": "stderr",
     "output_type": "stream",
     "text": [
      "Processing: 100%|███████████████████████████████████████████████████| 30/30 [00:29<00:00,  1.00it/s]\n",
      "Processing: 100%|███████████████████████████████████████████████████| 30/30 [00:07<00:00,  3.21it/s]"
     ]
    }
   ],
   "source": [
    "costs_mST=np.zeros((len(num_problems),len(num_samples)))\n",
    "costs_mSTREG_alpha0=np.zeros((len(num_problems),len(num_samples)))\n",
    "costs_NOmSTREG_alpha0=np.zeros((len(num_problems),len(num_samples)))\n",
    "\n",
    "pbar = tqdm(total=len(num_samples)*len(num_problems), desc=\"Processing\", ncols=100)\n",
    "for column,n in enumerate(num_samples):\n",
    "    for row,problem_number in enumerate(num_problems):\n",
    "        pbar.update(1)\n",
    "        P=load_ORdata_instance(n,problem_number)\n",
    "\n",
    "\n",
    "        alpha=0\n",
    "        tdata=T_data(P,verbose=False)\n",
    "        tdata.compute_BCST(alpha=alpha, maxiter_mSTreg=maxiter_mSTreg,\n",
    "                             maxfreq_mSTreg=maxfreq_mSTreg,return_topo_CST=False,init_topo='mST')\n",
    "\n",
    "\n",
    "        costs_mSTREG_alpha0[row,column]=tdata.trees['BCST_%0.2f'%alpha].cost\n",
    "        costs_mST[row,column]=tdata.trees['mST'].cost\n",
    "\n",
    "        tdata.compute_BCST(alpha=alpha, maxiter_mSTreg=-1,\n",
    "                           maxfreq_mSTreg=maxfreq_mSTreg, return_topo_CST=False, init_topo='mST')\n",
    "        costs_NOmSTREG_alpha0[row, column] = tdata.trees['BCST_%0.2f' % alpha].cost"
   ],
   "metadata": {
    "collapsed": false,
    "pycharm": {
     "name": "#%%\n"
    },
    "ExecuteTime": {
     "end_time": "2024-04-18T09:51:18.643970157Z",
     "start_time": "2024-04-18T09:51:11.317602526Z"
    }
   }
  },
  {
   "cell_type": "code",
   "execution_count": 20,
   "outputs": [],
   "source": [
    "\n",
    "costs_steiner=[4.836601423,4.948404618,4.747169968,4.469074736,4.864825693,4.92345859,4.361318655,\n",
    "               4.702746993,4.6760738,4.627790992,4.669385652,4.673221536,4.656471039,4.709868528,\n",
    "               4.607990921,\n",
    "               6.394256,6.594812128,6.531347066,6.576977411,6.674687782,6.466368368,6.987863494,\n",
    "               6.394971137,6.914321113,6.719510819,6.832950895,6.670622612,6.505252521,\n",
    "               6.882598532,6.205148881]\n",
    "\n",
    "\n",
    "costsalpha0_df=pd.DataFrame(costs_steiner,\n",
    "                      columns=['Optimum'],\n",
    "                      index=['e%i.%i'%(n,problem_number) for n,problem_number in itertools.product(num_samples,num_problems)])\n",
    "\n",
    "costsalpha0_df = costsalpha0_df.assign(mST=costs_mST.T.flatten())\n",
    "costsalpha0_df = costsalpha0_df.assign(mSTreg=costs_mSTREG_alpha0.T.flatten())\n",
    "costsalpha0_df = costsalpha0_df.assign(mST_fulltopo=costs_NOmSTREG_alpha0.T.flatten())\n",
    "\n",
    "\n",
    "\n",
    "costsalpha0_df['GAP%_mST'] = costsalpha0_df.apply(lambda x: 100*(x['mST']/x['Optimum']-1) , axis=1)\n",
    "costsalpha0_df['GAP%_mSTREG'] = costsalpha0_df.apply(lambda x: 100*(x['mSTreg']/x['Optimum']-1) , axis=1)\n",
    "costsalpha0_df['GAP%_NOmSTREG'] = costsalpha0_df.apply(lambda x: 100*(x['mST_fulltopo']/x['Optimum']-1) , axis=1)\n",
    "\n",
    "\n"
   ],
   "metadata": {
    "collapsed": false,
    "pycharm": {
     "name": "#%%\n"
    },
    "ExecuteTime": {
     "end_time": "2024-04-18T09:51:18.668830266Z",
     "start_time": "2024-04-18T09:51:18.633761164Z"
    }
   }
  },
  {
   "cell_type": "markdown",
   "source": [
    "### Plot relative error with respect to optimum cost\n"
   ],
   "metadata": {
    "collapsed": false
   }
  },
  {
   "cell_type": "code",
   "execution_count": 21,
   "outputs": [
    {
     "data": {
      "text/plain": "<Figure size 640x480 with 1 Axes>",
      "image/png": "[encoded data removed]"
     },
     "metadata": {},
     "output_type": "display_data"
    }
   ],
   "source": [
    "if save:\n",
    "    folder='Figures/ORlibrary_Benchamark/'\n",
    "    os.makedirs(folder,True)\n",
    "s=10\n",
    "fontsize=8\n",
    "i=0\n",
    "x=np.arange(0,len(costsalpha0_df))\n",
    "c='rgb'\n",
    "for i,label in enumerate(['mSTreg','mST_fulltopo','mST']):\n",
    "    y=np.array(100*(costsalpha0_df[label]/costsalpha0_df['Optimum']-1))\n",
    "    # y=np.concatenate([y,[np.mean(y)]])\n",
    "    plt.scatter(x,y,s=s,label=label,c=c[i])\n",
    "    plt.axhline(y=np.mean(y), c=c[i], linewidth=1,alpha=0.5,linestyle='-.', zorder=0,label='Mean %s'%label)\n",
    "\n",
    "# plt.xlabel('Problem instance')\n",
    "plt.ylabel('Relative Error')\n",
    "plt.xticks(x,[problem_idx for problem_idx in costsalpha0_df.index],\n",
    "           fontsize=fontsize,rotation=45, ha='center')\n",
    "plt.yticks( fontsize=fontsize)\n",
    "plt.legend(fontsize=fontsize,loc='upper left')\n",
    "plt.grid('off');plt.tight_layout()\n",
    "# plt.yscale('log')\n",
    "if save:\n",
    "    plt.savefig(folder+'Steiner_gap.png',dpi=200)\n",
    "plt.show()"
   ],
   "metadata": {
    "collapsed": false,
    "pycharm": {
     "name": "#%%\n"
    },
    "ExecuteTime": {
     "end_time": "2024-04-18T09:51:19.057085188Z",
     "start_time": "2024-04-18T09:51:18.668253294Z"
    }
   }
  },
  {
   "cell_type": "code",
   "execution_count": 21,
   "outputs": [],
   "source": [],
   "metadata": {
    "collapsed": false,
    "pycharm": {
     "name": "#%%\n"
    },
    "ExecuteTime": {
     "end_time": "2024-04-18T09:51:19.110453115Z",
     "start_time": "2024-04-18T09:51:19.055002596Z"
    }
   }
  },
  {
   "cell_type": "code",
   "execution_count": 21,
   "outputs": [],
   "source": [],
   "metadata": {
    "collapsed": false,
    "pycharm": {
     "name": "#%%\n"
    },
    "ExecuteTime": {
     "end_time": "2024-04-18T09:51:19.110842375Z",
     "start_time": "2024-04-18T09:51:19.096139117Z"
    }
   }
  }
 ],
 "metadata": {
  "kernelspec": {
   "name": "cst_3.10",
   "language": "python",
   "display_name": "CST_3.10"
  },
  "language_info": {
   "codemirror_mode": {
    "name": "ipython",
    "version": 2
   },
   "file_extension": ".py",
   "mimetype": "text/x-python",
   "name": "python",
   "nbconvert_exporter": "python",
   "pygments_lexer": "ipython2",
   "version": "2.7.6"
  }
 },
 "nbformat": 4,
 "nbformat_minor": 0
}
