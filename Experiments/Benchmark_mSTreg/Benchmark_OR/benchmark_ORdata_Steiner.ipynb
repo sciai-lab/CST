{
 "cells": [
  {
   "cell_type": "markdown",
   "source": [
    "# Steiner problem benchmark\n",
    "In this jupyter notebook the mSTreg heuristic will be used to approximate the optimum Steiner tree."
   ],
   "metadata": {
    "collapsed": false
   }
  },
  {
   "cell_type": "code",
   "execution_count": null,
   "outputs": [],
   "source": [
    "get_ipython().run_line_magic('load_ext', 'autoreload')\n",
    "get_ipython().run_line_magic('autoreload', '2')\n"
   ],
   "metadata": {
    "collapsed": false,
    "pycharm": {
     "name": "#%%\n",
     "is_executing": true
    }
   }
  },
  {
   "cell_type": "code",
   "execution_count": 2,
   "outputs": [
    {
     "name": "stdout",
     "output_type": "stream",
     "text": [
      "/export/home/enfita/Code/CST_official_github_repo\n",
      "/export/home/enfita/Code/CST_official_github_repo\n"
     ]
    }
   ],
   "source": [
    "import os\n",
    "import sys\n",
    "if 'Benchmark_OR' in os.getcwd():\n",
    "\tos.chdir('../../..')\n",
    "\tsys.path.insert(0,os.getcwd())\n",
    "print(os.getcwd())\n",
    "print(sys.path[0])"
   ],
   "metadata": {
    "collapsed": false,
    "pycharm": {
     "name": "#%%\n"
    }
   }
  },
  {
   "cell_type": "code",
   "execution_count": 3,
   "outputs": [
    {
     "name": "stderr",
     "output_type": "stream",
     "text": [
      "INFO:numexpr.utils:Note: NumExpr detected 32 cores but \"NUMEXPR_MAX_THREADS\" not set, so enforcing safe limit of 8.\n",
      "INFO:numexpr.utils:NumExpr defaulting to 8 threads.\n"
     ]
    },
    {
     "data": {
      "text/html": "\n\t\t\t<script type=\"text/javascript\">\n\t\t\t<!--\n\t\t\t\t\n\t\t\t{\n\t\t\t\tvar element = document.getElementById('NetworKit_script');\n\t\t\t\tif (element) {\n\t\t\t\t\telement.parentNode.removeChild(element);\n\t\t\t\t}\n\t\t\t\telement = document.createElement('script');\n\t\t\t\telement.type = 'text/javascript';\n\t\t\t\telement.innerHTML = 'function NetworKit_pageEmbed(id) { var i, j; var elements; elements = document.getElementById(id).getElementsByClassName(\"Plot\"); for (i=0; i<elements.length; i++) { elements[i].id = id + \"_Plot_\" + i; var data = elements[i].getAttribute(\"data-image\").split(\"|\"); elements[i].removeAttribute(\"data-image\"); var content = \"<div class=\\\\\"Image\\\\\" id=\\\\\"\" + elements[i].id + \"_Image\\\\\" />\"; elements[i].innerHTML = content; elements[i].setAttribute(\"data-image-index\", 0); elements[i].setAttribute(\"data-image-length\", data.length); for (j=0; j<data.length; j++) { elements[i].setAttribute(\"data-image-\" + j, data[j]); } NetworKit_plotUpdate(elements[i]); elements[i].onclick = function (e) { NetworKit_overlayShow((e.target) ? e.target : e.srcElement); } } elements = document.getElementById(id).getElementsByClassName(\"HeatCell\"); for (i=0; i<elements.length; i++) { var data = parseFloat(elements[i].getAttribute(\"data-heat\")); var color = \"#00FF00\"; if (data <= 1 && data > 0) { color = \"hsla(0, 100%, 75%, \" + (data) + \")\"; } else if (data <= 0 && data >= -1) { color = \"hsla(240, 100%, 75%, \" + (-data) + \")\"; } elements[i].style.backgroundColor = color; } elements = document.getElementById(id).getElementsByClassName(\"Details\"); for (i=0; i<elements.length; i++) { elements[i].setAttribute(\"data-title\", \"-\"); NetworKit_toggleDetails(elements[i]); elements[i].onclick = function (e) { NetworKit_toggleDetails((e.target) ? e.target : e.srcElement); } } elements = document.getElementById(id).getElementsByClassName(\"MathValue\"); for (i=elements.length-1; i>=0; i--) { value = elements[i].innerHTML.trim(); if (value === \"nan\") { elements[i].parentNode.innerHTML = \"\" } } elements = document.getElementById(id).getElementsByClassName(\"SubCategory\"); for (i=elements.length-1; i>=0; i--) { value = elements[i].innerHTML.trim(); if (value === \"\") { elements[i].parentNode.removeChild(elements[i]) } } elements = document.getElementById(id).getElementsByClassName(\"Category\"); for (i=elements.length-1; i>=0; i--) { value = elements[i].innerHTML.trim(); if (value === \"\") { elements[i].parentNode.removeChild(elements[i]) } } var isFirefox = false; try { isFirefox = typeof InstallTrigger !== \"undefined\"; } catch (e) {} if (!isFirefox) { alert(\"Currently the function\\'s output is only fully supported by Firefox.\"); } } function NetworKit_plotUpdate(source) { var index = source.getAttribute(\"data-image-index\"); var data = source.getAttribute(\"data-image-\" + index); var image = document.getElementById(source.id + \"_Image\"); image.style.backgroundImage = \"url(\" + data + \")\"; } function NetworKit_showElement(id, show) { var element = document.getElementById(id); element.style.display = (show) ? \"block\" : \"none\"; } function NetworKit_overlayShow(source) { NetworKit_overlayUpdate(source); NetworKit_showElement(\"NetworKit_Overlay\", true); } function NetworKit_overlayUpdate(source) { document.getElementById(\"NetworKit_Overlay_Title\").innerHTML = source.title; var index = source.getAttribute(\"data-image-index\"); var data = source.getAttribute(\"data-image-\" + index); var image = document.getElementById(\"NetworKit_Overlay_Image\"); image.setAttribute(\"data-id\", source.id); image.style.backgroundImage = \"url(\" + data + \")\"; var link = document.getElementById(\"NetworKit_Overlay_Toolbar_Bottom_Save\"); link.href = data; link.download = source.title + \".svg\"; } function NetworKit_overlayImageShift(delta) { var image = document.getElementById(\"NetworKit_Overlay_Image\"); var source = document.getElementById(image.getAttribute(\"data-id\")); var index = parseInt(source.getAttribute(\"data-image-index\")); var length = parseInt(source.getAttribute(\"data-image-length\")); var index = (index+delta) % length; if (index < 0) { index = length + index; } source.setAttribute(\"data-image-index\", index); NetworKit_overlayUpdate(source); } function NetworKit_toggleDetails(source) { var childs = source.children; var show = false; if (source.getAttribute(\"data-title\") == \"-\") { source.setAttribute(\"data-title\", \"+\"); show = false; } else { source.setAttribute(\"data-title\", \"-\"); show = true; } for (i=0; i<childs.length; i++) { if (show) { childs[i].style.display = \"block\"; } else { childs[i].style.display = \"none\"; } } }';\n\t\t\t\telement.setAttribute('id', 'NetworKit_script');\n\t\t\t\tdocument.head.appendChild(element);\n\t\t\t}\n\t\t\n\t\t\t\t\n\t\t\t{\n\t\t\t\tvar element = document.getElementById('NetworKit_style');\n\t\t\t\tif (element) {\n\t\t\t\t\telement.parentNode.removeChild(element);\n\t\t\t\t}\n\t\t\t\telement = document.createElement('style');\n\t\t\t\telement.type = 'text/css';\n\t\t\t\telement.innerHTML = '.NetworKit_Page { font-family: Arial, Helvetica, sans-serif; font-size: 14px; } .NetworKit_Page .Value:before { font-family: Arial, Helvetica, sans-serif; font-size: 1.05em; content: attr(data-title) \":\"; margin-left: -2.5em; padding-right: 0.5em; } .NetworKit_Page .Details .Value:before { display: block; } .NetworKit_Page .Value { font-family: monospace; white-space: pre; padding-left: 2.5em; white-space: -moz-pre-wrap !important; white-space: -pre-wrap; white-space: -o-pre-wrap; white-space: pre-wrap; word-wrap: break-word; tab-size: 4; -moz-tab-size: 4; } .NetworKit_Page .Category { clear: both; padding-left: 1em; margin-bottom: 1.5em; } .NetworKit_Page .Category:before { content: attr(data-title); font-size: 1.75em; display: block; margin-left: -0.8em; margin-bottom: 0.5em; } .NetworKit_Page .SubCategory { margin-bottom: 1.5em; padding-left: 1em; } .NetworKit_Page .SubCategory:before { font-size: 1.6em; display: block; margin-left: -0.8em; margin-bottom: 0.5em; } .NetworKit_Page .SubCategory[data-title]:before { content: attr(data-title); } .NetworKit_Page .Block { display: block; } .NetworKit_Page .Block:after { content: \".\"; visibility: hidden; display: block; height: 0; clear: both; } .NetworKit_Page .Block .Thumbnail_Overview, .NetworKit_Page .Block .Thumbnail_ScatterPlot { width: 260px; float: left; } .NetworKit_Page .Block .Thumbnail_Overview img, .NetworKit_Page .Block .Thumbnail_ScatterPlot img { width: 260px; } .NetworKit_Page .Block .Thumbnail_Overview:before, .NetworKit_Page .Block .Thumbnail_ScatterPlot:before { display: block; text-align: center; font-weight: bold; } .NetworKit_Page .Block .Thumbnail_Overview:before { content: attr(data-title); } .NetworKit_Page .HeatCell { font-family: \"Courier New\", Courier, monospace; cursor: pointer; } .NetworKit_Page .HeatCell, .NetworKit_Page .HeatCellName { display: inline; padding: 0.1em; margin-right: 2px; background-color: #FFFFFF } .NetworKit_Page .HeatCellName { margin-left: 0.25em; } .NetworKit_Page .HeatCell:before { content: attr(data-heat); display: inline-block; color: #000000; width: 4em; text-align: center; } .NetworKit_Page .Measure { clear: both; } .NetworKit_Page .Measure .Details { cursor: pointer; } .NetworKit_Page .Measure .Details:before { content: \"[\" attr(data-title) \"]\"; display: block; } .NetworKit_Page .Measure .Details .Value { border-left: 1px dotted black; margin-left: 0.4em; padding-left: 3.5em; pointer-events: none; } .NetworKit_Page .Measure .Details .Spacer:before { content: \".\"; opacity: 0.0; pointer-events: none; } .NetworKit_Page .Measure .Plot { width: 440px; height: 440px; cursor: pointer; float: left; margin-left: -0.9em; margin-right: 20px; } .NetworKit_Page .Measure .Plot .Image { background-repeat: no-repeat; background-position: center center; background-size: contain; height: 100%; pointer-events: none; } .NetworKit_Page .Measure .Stat { width: 500px; float: left; } .NetworKit_Page .Measure .Stat .Group { padding-left: 1.25em; margin-bottom: 0.75em; } .NetworKit_Page .Measure .Stat .Group .Title { font-size: 1.1em; display: block; margin-bottom: 0.3em; margin-left: -0.75em; border-right-style: dotted; border-right-width: 1px; border-bottom-style: dotted; border-bottom-width: 1px; background-color: #D0D0D0; padding-left: 0.2em; } .NetworKit_Page .Measure .Stat .Group .List { -webkit-column-count: 3; -moz-column-count: 3; column-count: 3; } .NetworKit_Page .Measure .Stat .Group .List .Entry { position: relative; line-height: 1.75em; } .NetworKit_Page .Measure .Stat .Group .List .Entry[data-tooltip]:before { position: absolute; left: 0; top: -40px; background-color: #808080; color: #ffffff; height: 30px; line-height: 30px; border-radius: 5px; padding: 0 15px; content: attr(data-tooltip); white-space: nowrap; display: none; } .NetworKit_Page .Measure .Stat .Group .List .Entry[data-tooltip]:after { position: absolute; left: 15px; top: -10px; border-top: 7px solid #808080; border-left: 7px solid transparent; border-right: 7px solid transparent; content: \"\"; display: none; } .NetworKit_Page .Measure .Stat .Group .List .Entry[data-tooltip]:hover:after, .NetworKit_Page .Measure .Stat .Group .List .Entry[data-tooltip]:hover:before { display: block; } .NetworKit_Page .Measure .Stat .Group .List .Entry .MathValue { font-family: \"Courier New\", Courier, monospace; } .NetworKit_Page .Measure:after { content: \".\"; visibility: hidden; display: block; height: 0; clear: both; } .NetworKit_Page .PartitionPie { clear: both; } .NetworKit_Page .PartitionPie img { width: 600px; } #NetworKit_Overlay { left: 0px; top: 0px; display: none; position: absolute; width: 100%; height: 100%; background-color: rgba(0,0,0,0.6); z-index: 1000; } #NetworKit_Overlay_Title { position: absolute; color: white; transform: rotate(-90deg); width: 32em; height: 32em; padding-right: 0.5em; padding-top: 0.5em; text-align: right; font-size: 40px; } #NetworKit_Overlay .button { background: white; cursor: pointer; } #NetworKit_Overlay .button:before { size: 13px; display: inline-block; text-align: center; margin-top: 0.5em; margin-bottom: 0.5em; width: 1.5em; height: 1.5em; } #NetworKit_Overlay .icon-close:before { content: \"X\"; } #NetworKit_Overlay .icon-previous:before { content: \"P\"; } #NetworKit_Overlay .icon-next:before { content: \"N\"; } #NetworKit_Overlay .icon-save:before { content: \"S\"; } #NetworKit_Overlay_Toolbar_Top, #NetworKit_Overlay_Toolbar_Bottom { position: absolute; width: 40px; right: 13px; text-align: right; z-index: 1100; } #NetworKit_Overlay_Toolbar_Top { top: 0.5em; } #NetworKit_Overlay_Toolbar_Bottom { Bottom: 0.5em; } #NetworKit_Overlay_ImageContainer { position: absolute; top: 5%; left: 5%; height: 90%; width: 90%; background-repeat: no-repeat; background-position: center center; background-size: contain; } #NetworKit_Overlay_Image { height: 100%; width: 100%; background-repeat: no-repeat; background-position: center center; background-size: contain; }';\n\t\t\t\telement.setAttribute('id', 'NetworKit_style');\n\t\t\t\tdocument.head.appendChild(element);\n\t\t\t}\n\t\t\n\t\t\t\t\n\t\t\t{\n\t\t\t\tvar element = document.getElementById('NetworKit_Overlay');\n\t\t\t\tif (element) {\n\t\t\t\t\telement.parentNode.removeChild(element);\n\t\t\t\t}\n\t\t\t\telement = document.createElement('div');\n\t\t\t\telement.innerHTML = '<div id=\"NetworKit_Overlay_Toolbar_Top\"><div class=\"button icon-close\" id=\"NetworKit_Overlay_Close\" /></div><div id=\"NetworKit_Overlay_Title\" /> <div id=\"NetworKit_Overlay_ImageContainer\"> <div id=\"NetworKit_Overlay_Image\" /> </div> <div id=\"NetworKit_Overlay_Toolbar_Bottom\"> <div class=\"button icon-previous\" onclick=\"NetworKit_overlayImageShift(-1)\" /> <div class=\"button icon-next\" onclick=\"NetworKit_overlayImageShift(1)\" /> <a id=\"NetworKit_Overlay_Toolbar_Bottom_Save\"><div class=\"button icon-save\" /></a> </div>';\n\t\t\t\telement.setAttribute('id', 'NetworKit_Overlay');\n\t\t\t\tdocument.body.appendChild(element);\n\t\t\t\tdocument.getElementById('NetworKit_Overlay_Close').onclick = function (e) {\n\t\t\t\t\tdocument.getElementById('NetworKit_Overlay').style.display = 'none';\n\t\t\t\t}\n\t\t\t}\n\t\t\n\t\t\t-->\n\t\t\t</script>\n\t\t"
     },
     "metadata": {},
     "output_type": "display_data"
    },
    {
     "name": "stderr",
     "output_type": "stream",
     "text": [
      "/export/home/enfita/Code/CST_official_github_repo/lib/methods/mSTreg/topology/topology.py:74: NumbaDeprecationWarning: \u001B[1mThe 'nopython' keyword argument was not supplied to the 'numba.jit' decorator. The implicit default value for this argument is currently False, but it will be changed to True in Numba 0.59.0. See https://numba.readthedocs.io/en/stable/reference/deprecation.html#deprecation-of-object-mode-fall-back-behaviour-when-using-jit for details.\u001B[0m\n",
      "  def vec_to_adj(vec):\n"
     ]
    }
   ],
   "source": [
    "import numpy as np\n",
    "import matplotlib.pyplot as plt\n",
    "import itertools\n",
    "\n",
    "from lib.CST.T_datacls import T_data\n",
    "from Experiments.Benchmark_mSTreg.Benchmark_OR.load_ORdata import load_ORdata_instance\n",
    "\n",
    "import pandas as pd\n",
    "\n",
    "from tqdm import tqdm"
   ],
   "metadata": {
    "collapsed": false,
    "pycharm": {
     "name": "#%%\n"
    }
   }
  },
  {
   "cell_type": "markdown",
   "source": [
    "parameter"
   ],
   "metadata": {
    "collapsed": false
   }
  },
  {
   "cell_type": "code",
   "execution_count": 4,
   "outputs": [],
   "source": [
    "save = False\n",
    "maxiter_mSTreg=20\n",
    "maxfreq_mSTreg=5\n",
    "\n",
    "alpha_ls=np.linspace(0,1,11)\n",
    "merging_criterium='tryall'\n",
    "order_criterium='closest'\n",
    "criterium_BP_position_update='median'\n",
    "\n",
    "num_samples=[50,100]\n",
    "num_problems = range(1, 16)"
   ],
   "metadata": {
    "collapsed": false,
    "pycharm": {
     "name": "#%%\n"
    }
   }
  },
  {
   "cell_type": "markdown",
   "source": [
    "### Compute costs of the different algorithms"
   ],
   "metadata": {
    "collapsed": false
   }
  },
  {
   "cell_type": "code",
   "execution_count": 5,
   "outputs": [
    {
     "name": "stdout",
     "output_type": "stream",
     "text": [
      "0 0\n",
      "1 0\n",
      "2 0\n",
      "3 0\n",
      "4 0\n",
      "5 0\n",
      "6 0\n",
      "7 0\n",
      "8 0\n",
      "9 0\n",
      "10 0\n",
      "11 0\n",
      "12 0\n",
      "13 0\n",
      "14 0\n",
      "0 1\n",
      "1 1\n",
      "2 1\n",
      "3 1\n",
      "4 1\n",
      "5 1\n",
      "6 1\n",
      "7 1\n",
      "8 1\n",
      "9 1\n",
      "10 1\n",
      "11 1\n",
      "12 1\n",
      "13 1\n",
      "14 1\n"
     ]
    }
   ],
   "source": [
    "costs_mST=np.zeros((len(num_problems),len(num_samples)))\n",
    "costs_mSTREG_alpha0=np.zeros((len(num_problems),len(num_samples)))\n",
    "costs_NOmSTREG_alpha0=np.zeros((len(num_problems),len(num_samples)))\n",
    "\n",
    "pbar = tqdm(total=len(num_samples)*len(num_problems), desc=\"Processing\", ncols=100)\n",
    "for column,n in enumerate(num_samples):\n",
    "    for row,problem_number in enumerate(num_problems):\n",
    "        pbar.update(1)\n",
    "        P=load_ORdata_instance(n,problem_number)\n",
    "\n",
    "\n",
    "        alpha=0\n",
    "        tdata=T_data(P,verbose=False)\n",
    "        tdata.compute_BCST(alpha=alpha, maxiter_mSTreg=maxiter_mSTreg,\n",
    "                             maxfreq_mSTreg=maxfreq_mSTreg,return_topo_CST=False,init_topo='mST')\n",
    "\n",
    "\n",
    "        costs_mSTREG_alpha0[row,column]=tdata.trees['BCST_%0.2f'%alpha].cost\n",
    "        costs_mST[row,column]=tdata.trees['mST'].cost\n",
    "\n",
    "        tdata.compute_BCST(alpha=alpha, maxiter_mSTreg=-1,\n",
    "                           maxfreq_mSTreg=maxfreq_mSTreg, return_topo_CST=False, init_topo='mST')\n",
    "        costs_NOmSTREG_alpha0[row, column] = tdata.trees['BCST_%0.2f' % alpha].cost"
   ],
   "metadata": {
    "collapsed": false,
    "pycharm": {
     "name": "#%%\n"
    }
   }
  },
  {
   "cell_type": "code",
   "execution_count": 6,
   "outputs": [
    {
     "name": "stdout",
     "output_type": "stream",
     "text": [
      "\\begin{tabular}{lrrrrrrr}\n",
      "\\toprule\n",
      "{} &  Optimum &   mST &  mSTreg &  mST\\_fulltopo &  GAP\\%\\_mST &  GAP\\%\\_mSTREG &  GAP\\%\\_NOmSTREG \\\\\n",
      "\\midrule\n",
      "e50.1   &    4.837 & 4.968 &   4.858 &         4.893 &     2.709 &        0.441 &          1.168 \\\\\n",
      "e50.2   &    4.948 & 5.143 &   5.011 &         5.039 &     3.935 &        1.259 &          1.824 \\\\\n",
      "e50.3   &    4.747 & 4.929 &   4.763 &         4.861 &     3.830 &        0.337 &          2.391 \\\\\n",
      "e50.4   &    4.469 & 4.600 &   4.502 &         4.544 &     2.927 &        0.738 &          1.679 \\\\\n",
      "e50.5   &    4.865 & 5.023 &   4.869 &         4.923 &     3.259 &        0.087 &          1.191 \\\\\n",
      "e50.6   &    4.923 & 5.099 &   4.973 &         4.973 &     3.575 &        0.997 &          0.997 \\\\\n",
      "e50.7   &    4.361 & 4.501 &   4.405 &         4.406 &     3.205 &        0.991 &          1.032 \\\\\n",
      "e50.8   &    4.703 & 4.828 &   4.747 &         4.770 &     2.674 &        0.938 &          1.432 \\\\\n",
      "e50.9   &    4.676 & 4.825 &   4.743 &         4.743 &     3.183 &        1.422 &          1.422 \\\\\n",
      "e50.10  &    4.628 & 4.763 &   4.654 &         4.654 &     2.926 &        0.571 &          0.571 \\\\\n",
      "e50.11  &    4.669 & 4.788 &   4.680 &         4.702 &     2.537 &        0.237 &          0.692 \\\\\n",
      "e50.12  &    4.673 & 4.810 &   4.705 &         4.723 &     2.932 &        0.679 &          1.073 \\\\\n",
      "e50.13  &    4.656 & 4.825 &   4.695 &         4.703 &     3.629 &        0.824 &          1.008 \\\\\n",
      "e50.14  &    4.710 & 4.845 &   4.722 &         4.732 &     2.877 &        0.249 &          0.465 \\\\\n",
      "e50.15  &    4.608 & 4.735 &   4.642 &         4.656 &     2.749 &        0.733 &          1.051 \\\\\n",
      "e100.1  &    6.394 & 6.609 &   6.469 &         6.469 &     3.351 &        1.162 &          1.162 \\\\\n",
      "e100.2  &    6.595 & 6.833 &   6.666 &         6.712 &     3.610 &        1.079 &          1.783 \\\\\n",
      "e100.3  &    6.531 & 6.763 &   6.624 &         6.719 &     3.539 &        1.425 &          2.866 \\\\\n",
      "e100.4  &    6.577 & 6.798 &   6.641 &         6.671 &     3.357 &        0.969 &          1.432 \\\\\n",
      "e100.5  &    6.675 & 6.903 &   6.708 &         6.723 &     3.424 &        0.495 &          0.720 \\\\\n",
      "e100.6  &    6.466 & 6.694 &   6.525 &         6.559 &     3.524 &        0.901 &          1.440 \\\\\n",
      "e100.7  &    6.988 & 7.277 &   7.115 &         7.115 &     4.141 &        1.814 &          1.814 \\\\\n",
      "e100.8  &    6.395 & 6.631 &   6.426 &         6.476 &     3.698 &        0.484 &          1.269 \\\\\n",
      "e100.9  &    6.914 & 7.165 &   6.991 &         7.043 &     3.630 &        1.104 &          1.862 \\\\\n",
      "e100.10 &    6.720 & 6.954 &   6.809 &         6.833 &     3.489 &        1.328 &          1.687 \\\\\n",
      "e100.11 &    6.833 & 7.031 &   6.889 &         6.954 &     2.898 &        0.825 &          1.765 \\\\\n",
      "e100.12 &    6.671 & 6.855 &   6.743 &         6.774 &     2.762 &        1.090 &          1.546 \\\\\n",
      "e100.13 &    6.505 & 6.683 &   6.528 &         6.552 &     2.736 &        0.351 &          0.717 \\\\\n",
      "e100.14 &    6.883 & 7.137 &   6.996 &         6.996 &     3.698 &        1.651 &          1.651 \\\\\n",
      "e100.15 &    6.205 & 6.383 &   6.258 &         6.258 &     2.859 &        0.850 &          0.850 \\\\\n",
      "\\bottomrule\n",
      "\\end{tabular}\n"
     ]
    }
   ],
   "source": [
    "\n",
    "costs_steiner=[4.836601423,4.948404618,4.747169968,4.469074736,4.864825693,4.92345859,4.361318655,\n",
    "               4.702746993,4.6760738,4.627790992,4.669385652,4.673221536,4.656471039,4.709868528,\n",
    "               4.607990921,\n",
    "               6.394256,6.594812128,6.531347066,6.576977411,6.674687782,6.466368368,6.987863494,\n",
    "               6.394971137,6.914321113,6.719510819,6.832950895,6.670622612,6.505252521,\n",
    "               6.882598532,6.205148881]\n",
    "\n",
    "\n",
    "costsalpha0_df=pd.DataFrame(costs_steiner,\n",
    "                      columns=['Optimum'],\n",
    "                      index=['e%i.%i'%(n,problem_number) for n,problem_number in itertools.product(num_samples,num_problems)])\n",
    "\n",
    "costsalpha0_df = costsalpha0_df.assign(mST=costs_mST.T.flatten())\n",
    "costsalpha0_df = costsalpha0_df.assign(mSTreg=costs_mSTREG_alpha0.T.flatten())\n",
    "costsalpha0_df = costsalpha0_df.assign(mST_fulltopo=costs_NOmSTREG_alpha0.T.flatten())\n",
    "\n",
    "# costsalpha0_df['Ratio_mST'] = costsalpha0_df.apply(lambda x: x['mST']/x['Optimum'] , axis=1)\n",
    "# costsalpha0_df['Ratio_mSTREG'] = costsalpha0_df.apply(lambda x: x['mSTREG']/x['Optimum'] , axis=1)\n",
    "# costsalpha0_df['Ratio_NOmSTREG'] = costsalpha0_df.apply(lambda x: x['NOmSTREG']/x['Optimum'] , axis=1)\n",
    "\n",
    "costsalpha0_df['GAP%_mST'] = costsalpha0_df.apply(lambda x: 100*(x['mST']/x['Optimum']-1) , axis=1)\n",
    "costsalpha0_df['GAP%_mSTREG'] = costsalpha0_df.apply(lambda x: 100*(x['mSTreg']/x['Optimum']-1) , axis=1)\n",
    "costsalpha0_df['GAP%_NOmSTREG'] = costsalpha0_df.apply(lambda x: 100*(x['mST_fulltopo']/x['Optimum']-1) , axis=1)\n",
    "\n",
    "\n",
    "\n",
    "print(costsalpha0_df.to_latex(index=True,\n",
    "                  formatters={\"name\": str.upper},\n",
    "                  float_format=\"{:.3f}\".format,))"
   ],
   "metadata": {
    "collapsed": false,
    "pycharm": {
     "name": "#%%\n"
    }
   }
  },
  {
   "cell_type": "markdown",
   "source": [
    "### Plot relative error with respect to optimum cost\n"
   ],
   "metadata": {
    "collapsed": false
   }
  },
  {
   "cell_type": "code",
   "execution_count": 7,
   "outputs": [
    {
     "data": {
      "text/plain": "<Figure size 640x480 with 1 Axes>",
      "image/png": "[encoded data removed]"
     },
     "metadata": {},
     "output_type": "display_data"
    }
   ],
   "source": [
    "if save:\n",
    "    folder='Figures/ORlibrary_Benchamark/'\n",
    "    os.makedirs(folder,True)\n",
    "s=10\n",
    "fontsize=8\n",
    "i=0\n",
    "x=np.arange(0,len(costsalpha0_df))\n",
    "c='rgb'\n",
    "for i,label in enumerate(['mSTreg','mST_fulltopo','mST']):\n",
    "    y=np.array(100*(costsalpha0_df[label]/costsalpha0_df['Optimum']-1))\n",
    "    # y=np.concatenate([y,[np.mean(y)]])\n",
    "    plt.scatter(x,y,s=s,label=label,c=c[i])\n",
    "    plt.axhline(y=np.mean(y), c=c[i], linewidth=1,alpha=0.5,linestyle='-.', zorder=0,label='Mean %s'%label)\n",
    "\n",
    "# plt.xlabel('Problem instance')\n",
    "plt.ylabel('Relative Error')\n",
    "plt.xticks(x,[problem_idx for problem_idx in costsalpha0_df.index],\n",
    "           fontsize=fontsize,rotation=45, ha='center')\n",
    "plt.yticks( fontsize=fontsize)\n",
    "plt.legend(fontsize=fontsize,loc='upper left')\n",
    "plt.grid('off');plt.tight_layout()\n",
    "# plt.yscale('log')\n",
    "if save:\n",
    "    plt.savefig(folder+'Steiner_gap.png',dpi=200)\n",
    "plt.show()"
   ],
   "metadata": {
    "collapsed": false,
    "pycharm": {
     "name": "#%%\n"
    }
   }
  },
  {
   "cell_type": "code",
   "execution_count": 7,
   "outputs": [],
   "source": [],
   "metadata": {
    "collapsed": false,
    "pycharm": {
     "name": "#%%\n"
    }
   }
  },
  {
   "cell_type": "code",
   "execution_count": 7,
   "outputs": [],
   "source": [],
   "metadata": {
    "collapsed": false,
    "pycharm": {
     "name": "#%%\n"
    }
   }
  }
 ],
 "metadata": {
  "kernelspec": {
   "name": "cst",
   "language": "python",
   "display_name": "CST"
  },
  "language_info": {
   "codemirror_mode": {
    "name": "ipython",
    "version": 2
   },
   "file_extension": ".py",
   "mimetype": "text/x-python",
   "name": "python",
   "nbconvert_exporter": "python",
   "pygments_lexer": "ipython2",
   "version": "2.7.6"
  }
 },
 "nbformat": 4,
 "nbformat_minor": 0
}
