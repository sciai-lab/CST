{
 "cells": [
  {
   "cell_type": "markdown",
   "source": [
    "# MRCT Benchmark\n",
    "In this jupyter notebook the mSTreg heuristic will compared against the Campos and GRASP_PR algorithms. The task is to approximate the Minimum Routing Cost Tree (MRCT), that is the Central Spanning Tree with $\\alpha=1$"
   ],
   "metadata": {
    "collapsed": false
   }
  },
  {
   "cell_type": "code",
   "execution_count": 1,
   "outputs": [],
   "source": [
    "get_ipython().run_line_magic('load_ext', 'autoreload')\n",
    "get_ipython().run_line_magic('autoreload', '2')\n"
   ],
   "metadata": {
    "collapsed": false,
    "pycharm": {
     "name": "#%%\n"
    },
    "ExecuteTime": {
     "end_time": "2024-04-18T09:51:10.852911128Z",
     "start_time": "2024-04-18T09:51:10.791852721Z"
    }
   }
  },
  {
   "cell_type": "code",
   "execution_count": 2,
   "outputs": [
    {
     "name": "stdout",
     "output_type": "stream",
     "text": [
      "/export/home/enfita/Code/CST_official_github_repo\n",
      "/export/home/enfita/Code/CST_official_github_repo\n"
     ]
    }
   ],
   "source": [
    "import os\n",
    "import sys\n",
    "if 'Benchmark_OR' in os.getcwd():\n",
    "\tos.chdir('../../..')\n",
    "\tsys.path.insert(0,os.getcwd())\n",
    "print(os.getcwd())\n",
    "print(sys.path[0])"
   ],
   "metadata": {
    "collapsed": false,
    "pycharm": {
     "name": "#%%\n"
    },
    "ExecuteTime": {
     "end_time": "2024-04-18T09:51:10.866833386Z",
     "start_time": "2024-04-18T09:51:10.792254966Z"
    }
   }
  },
  {
   "cell_type": "code",
   "execution_count": 3,
   "outputs": [
    {
     "name": "stderr",
     "output_type": "stream",
     "text": [
      "INFO:numexpr.utils:Note: detected 72 virtual cores but NumExpr set to maximum of 64, check \"NUMEXPR_MAX_THREADS\" environment variable.\n",
      "INFO:numexpr.utils:Note: NumExpr detected 72 cores but \"NUMEXPR_MAX_THREADS\" not set, so enforcing safe limit of 8.\n",
      "INFO:numexpr.utils:NumExpr defaulting to 8 threads.\n"
     ]
    },
    {
     "data": {
      "text/html": "\n\t\t\t<script type=\"text/javascript\">\n\t\t\t<!--\n\t\t\t\t\n\t\t\t{\n\t\t\t\tvar element = document.getElementById('NetworKit_script');\n\t\t\t\tif (element) {\n\t\t\t\t\telement.parentNode.removeChild(element);\n\t\t\t\t}\n\t\t\t\telement = document.createElement('script');\n\t\t\t\telement.type = 'text/javascript';\n\t\t\t\telement.innerHTML = 'function NetworKit_pageEmbed(id) { var i, j; var elements; elements = document.getElementById(id).getElementsByClassName(\"Plot\"); for (i=0; i<elements.length; i++) { elements[i].id = id + \"_Plot_\" + i; var data = elements[i].getAttribute(\"data-image\").split(\"|\"); elements[i].removeAttribute(\"data-image\"); var content = \"<div class=\\\\\"Image\\\\\" id=\\\\\"\" + elements[i].id + \"_Image\\\\\" />\"; elements[i].innerHTML = content; elements[i].setAttribute(\"data-image-index\", 0); elements[i].setAttribute(\"data-image-length\", data.length); for (j=0; j<data.length; j++) { elements[i].setAttribute(\"data-image-\" + j, data[j]); } NetworKit_plotUpdate(elements[i]); elements[i].onclick = function (e) { NetworKit_overlayShow((e.target) ? e.target : e.srcElement); } } elements = document.getElementById(id).getElementsByClassName(\"HeatCell\"); for (i=0; i<elements.length; i++) { var data = parseFloat(elements[i].getAttribute(\"data-heat\")); var color = \"#00FF00\"; if (data <= 1 && data > 0) { color = \"hsla(0, 100%, 75%, \" + (data) + \")\"; } else if (data <= 0 && data >= -1) { color = \"hsla(240, 100%, 75%, \" + (-data) + \")\"; } elements[i].style.backgroundColor = color; } elements = document.getElementById(id).getElementsByClassName(\"Details\"); for (i=0; i<elements.length; i++) { elements[i].setAttribute(\"data-title\", \"-\"); NetworKit_toggleDetails(elements[i]); elements[i].onclick = function (e) { NetworKit_toggleDetails((e.target) ? e.target : e.srcElement); } } elements = document.getElementById(id).getElementsByClassName(\"MathValue\"); for (i=elements.length-1; i>=0; i--) { value = elements[i].innerHTML.trim(); if (value === \"nan\") { elements[i].parentNode.innerHTML = \"\" } } elements = document.getElementById(id).getElementsByClassName(\"SubCategory\"); for (i=elements.length-1; i>=0; i--) { value = elements[i].innerHTML.trim(); if (value === \"\") { elements[i].parentNode.removeChild(elements[i]) } } elements = document.getElementById(id).getElementsByClassName(\"Category\"); for (i=elements.length-1; i>=0; i--) { value = elements[i].innerHTML.trim(); if (value === \"\") { elements[i].parentNode.removeChild(elements[i]) } } var isFirefox = false; try { isFirefox = typeof InstallTrigger !== \"undefined\"; } catch (e) {} if (!isFirefox) { alert(\"Currently the function\\'s output is only fully supported by Firefox.\"); } } function NetworKit_plotUpdate(source) { var index = source.getAttribute(\"data-image-index\"); var data = source.getAttribute(\"data-image-\" + index); var image = document.getElementById(source.id + \"_Image\"); image.style.backgroundImage = \"url(\" + data + \")\"; } function NetworKit_showElement(id, show) { var element = document.getElementById(id); element.style.display = (show) ? \"block\" : \"none\"; } function NetworKit_overlayShow(source) { NetworKit_overlayUpdate(source); NetworKit_showElement(\"NetworKit_Overlay\", true); } function NetworKit_overlayUpdate(source) { document.getElementById(\"NetworKit_Overlay_Title\").innerHTML = source.title; var index = source.getAttribute(\"data-image-index\"); var data = source.getAttribute(\"data-image-\" + index); var image = document.getElementById(\"NetworKit_Overlay_Image\"); image.setAttribute(\"data-id\", source.id); image.style.backgroundImage = \"url(\" + data + \")\"; var link = document.getElementById(\"NetworKit_Overlay_Toolbar_Bottom_Save\"); link.href = data; link.download = source.title + \".svg\"; } function NetworKit_overlayImageShift(delta) { var image = document.getElementById(\"NetworKit_Overlay_Image\"); var source = document.getElementById(image.getAttribute(\"data-id\")); var index = parseInt(source.getAttribute(\"data-image-index\")); var length = parseInt(source.getAttribute(\"data-image-length\")); var index = (index+delta) % length; if (index < 0) { index = length + index; } source.setAttribute(\"data-image-index\", index); NetworKit_overlayUpdate(source); } function NetworKit_toggleDetails(source) { var childs = source.children; var show = false; if (source.getAttribute(\"data-title\") == \"-\") { source.setAttribute(\"data-title\", \"+\"); show = false; } else { source.setAttribute(\"data-title\", \"-\"); show = true; } for (i=0; i<childs.length; i++) { if (show) { childs[i].style.display = \"block\"; } else { childs[i].style.display = \"none\"; } } }';\n\t\t\t\telement.setAttribute('id', 'NetworKit_script');\n\t\t\t\tdocument.head.appendChild(element);\n\t\t\t}\n\t\t\n\t\t\t\t\n\t\t\t{\n\t\t\t\tvar element = document.getElementById('NetworKit_style');\n\t\t\t\tif (element) {\n\t\t\t\t\telement.parentNode.removeChild(element);\n\t\t\t\t}\n\t\t\t\telement = document.createElement('style');\n\t\t\t\telement.type = 'text/css';\n\t\t\t\telement.innerHTML = '.NetworKit_Page { font-family: Arial, Helvetica, sans-serif; font-size: 14px; } .NetworKit_Page .Value:before { font-family: Arial, Helvetica, sans-serif; font-size: 1.05em; content: attr(data-title) \":\"; margin-left: -2.5em; padding-right: 0.5em; } .NetworKit_Page .Details .Value:before { display: block; } .NetworKit_Page .Value { font-family: monospace; white-space: pre; padding-left: 2.5em; white-space: -moz-pre-wrap !important; white-space: -pre-wrap; white-space: -o-pre-wrap; white-space: pre-wrap; word-wrap: break-word; tab-size: 4; -moz-tab-size: 4; } .NetworKit_Page .Category { clear: both; padding-left: 1em; margin-bottom: 1.5em; } .NetworKit_Page .Category:before { content: attr(data-title); font-size: 1.75em; display: block; margin-left: -0.8em; margin-bottom: 0.5em; } .NetworKit_Page .SubCategory { margin-bottom: 1.5em; padding-left: 1em; } .NetworKit_Page .SubCategory:before { font-size: 1.6em; display: block; margin-left: -0.8em; margin-bottom: 0.5em; } .NetworKit_Page .SubCategory[data-title]:before { content: attr(data-title); } .NetworKit_Page .Block { display: block; } .NetworKit_Page .Block:after { content: \".\"; visibility: hidden; display: block; height: 0; clear: both; } .NetworKit_Page .Block .Thumbnail_Overview, .NetworKit_Page .Block .Thumbnail_ScatterPlot { width: 260px; float: left; } .NetworKit_Page .Block .Thumbnail_Overview img, .NetworKit_Page .Block .Thumbnail_ScatterPlot img { width: 260px; } .NetworKit_Page .Block .Thumbnail_Overview:before, .NetworKit_Page .Block .Thumbnail_ScatterPlot:before { display: block; text-align: center; font-weight: bold; } .NetworKit_Page .Block .Thumbnail_Overview:before { content: attr(data-title); } .NetworKit_Page .HeatCell { font-family: \"Courier New\", Courier, monospace; cursor: pointer; } .NetworKit_Page .HeatCell, .NetworKit_Page .HeatCellName { display: inline; padding: 0.1em; margin-right: 2px; background-color: #FFFFFF } .NetworKit_Page .HeatCellName { margin-left: 0.25em; } .NetworKit_Page .HeatCell:before { content: attr(data-heat); display: inline-block; color: #000000; width: 4em; text-align: center; } .NetworKit_Page .Measure { clear: both; } .NetworKit_Page .Measure .Details { cursor: pointer; } .NetworKit_Page .Measure .Details:before { content: \"[\" attr(data-title) \"]\"; display: block; } .NetworKit_Page .Measure .Details .Value { border-left: 1px dotted black; margin-left: 0.4em; padding-left: 3.5em; pointer-events: none; } .NetworKit_Page .Measure .Details .Spacer:before { content: \".\"; opacity: 0.0; pointer-events: none; } .NetworKit_Page .Measure .Plot { width: 440px; height: 440px; cursor: pointer; float: left; margin-left: -0.9em; margin-right: 20px; } .NetworKit_Page .Measure .Plot .Image { background-repeat: no-repeat; background-position: center center; background-size: contain; height: 100%; pointer-events: none; } .NetworKit_Page .Measure .Stat { width: 500px; float: left; } .NetworKit_Page .Measure .Stat .Group { padding-left: 1.25em; margin-bottom: 0.75em; } .NetworKit_Page .Measure .Stat .Group .Title { font-size: 1.1em; display: block; margin-bottom: 0.3em; margin-left: -0.75em; border-right-style: dotted; border-right-width: 1px; border-bottom-style: dotted; border-bottom-width: 1px; background-color: #D0D0D0; padding-left: 0.2em; } .NetworKit_Page .Measure .Stat .Group .List { -webkit-column-count: 3; -moz-column-count: 3; column-count: 3; } .NetworKit_Page .Measure .Stat .Group .List .Entry { position: relative; line-height: 1.75em; } .NetworKit_Page .Measure .Stat .Group .List .Entry[data-tooltip]:before { position: absolute; left: 0; top: -40px; background-color: #808080; color: #ffffff; height: 30px; line-height: 30px; border-radius: 5px; padding: 0 15px; content: attr(data-tooltip); white-space: nowrap; display: none; } .NetworKit_Page .Measure .Stat .Group .List .Entry[data-tooltip]:after { position: absolute; left: 15px; top: -10px; border-top: 7px solid #808080; border-left: 7px solid transparent; border-right: 7px solid transparent; content: \"\"; display: none; } .NetworKit_Page .Measure .Stat .Group .List .Entry[data-tooltip]:hover:after, .NetworKit_Page .Measure .Stat .Group .List .Entry[data-tooltip]:hover:before { display: block; } .NetworKit_Page .Measure .Stat .Group .List .Entry .MathValue { font-family: \"Courier New\", Courier, monospace; } .NetworKit_Page .Measure:after { content: \".\"; visibility: hidden; display: block; height: 0; clear: both; } .NetworKit_Page .PartitionPie { clear: both; } .NetworKit_Page .PartitionPie img { width: 600px; } #NetworKit_Overlay { left: 0px; top: 0px; display: none; position: absolute; width: 100%; height: 100%; background-color: rgba(0,0,0,0.6); z-index: 1000; } #NetworKit_Overlay_Title { position: absolute; color: white; transform: rotate(-90deg); width: 32em; height: 32em; padding-right: 0.5em; padding-top: 0.5em; text-align: right; font-size: 40px; } #NetworKit_Overlay .button { background: white; cursor: pointer; } #NetworKit_Overlay .button:before { size: 13px; display: inline-block; text-align: center; margin-top: 0.5em; margin-bottom: 0.5em; width: 1.5em; height: 1.5em; } #NetworKit_Overlay .icon-close:before { content: \"X\"; } #NetworKit_Overlay .icon-previous:before { content: \"P\"; } #NetworKit_Overlay .icon-next:before { content: \"N\"; } #NetworKit_Overlay .icon-save:before { content: \"S\"; } #NetworKit_Overlay_Toolbar_Top, #NetworKit_Overlay_Toolbar_Bottom { position: absolute; width: 40px; right: 13px; text-align: right; z-index: 1100; } #NetworKit_Overlay_Toolbar_Top { top: 0.5em; } #NetworKit_Overlay_Toolbar_Bottom { Bottom: 0.5em; } #NetworKit_Overlay_ImageContainer { position: absolute; top: 5%; left: 5%; height: 90%; width: 90%; background-repeat: no-repeat; background-position: center center; background-size: contain; } #NetworKit_Overlay_Image { height: 100%; width: 100%; background-repeat: no-repeat; background-position: center center; background-size: contain; }';\n\t\t\t\telement.setAttribute('id', 'NetworKit_style');\n\t\t\t\tdocument.head.appendChild(element);\n\t\t\t}\n\t\t\n\t\t\t\t\n\t\t\t{\n\t\t\t\tvar element = document.getElementById('NetworKit_Overlay');\n\t\t\t\tif (element) {\n\t\t\t\t\telement.parentNode.removeChild(element);\n\t\t\t\t}\n\t\t\t\telement = document.createElement('div');\n\t\t\t\telement.innerHTML = '<div id=\"NetworKit_Overlay_Toolbar_Top\"><div class=\"button icon-close\" id=\"NetworKit_Overlay_Close\" /></div><div id=\"NetworKit_Overlay_Title\" /> <div id=\"NetworKit_Overlay_ImageContainer\"> <div id=\"NetworKit_Overlay_Image\" /> </div> <div id=\"NetworKit_Overlay_Toolbar_Bottom\"> <div class=\"button icon-previous\" onclick=\"NetworKit_overlayImageShift(-1)\" /> <div class=\"button icon-next\" onclick=\"NetworKit_overlayImageShift(1)\" /> <a id=\"NetworKit_Overlay_Toolbar_Bottom_Save\"><div class=\"button icon-save\" /></a> </div>';\n\t\t\t\telement.setAttribute('id', 'NetworKit_Overlay');\n\t\t\t\tdocument.body.appendChild(element);\n\t\t\t\tdocument.getElementById('NetworKit_Overlay_Close').onclick = function (e) {\n\t\t\t\t\tdocument.getElementById('NetworKit_Overlay').style.display = 'none';\n\t\t\t\t}\n\t\t\t}\n\t\t\n\t\t\t-->\n\t\t\t</script>\n\t\t"
     },
     "metadata": {},
     "output_type": "display_data"
    }
   ],
   "source": [
    "import numpy as np\n",
    "import matplotlib.pyplot as plt\n",
    "import itertools\n",
    "\n",
    "from lib.CST.T_datacls import T_data\n",
    "from Experiments.Benchmark_mSTreg.Benchmark_OR.load_ORdata import load_ORdata_instance\n",
    "from lib.CST.methods.MRCT.Campos import Campos_MRCT\n",
    "from sklearn.metrics import pairwise_distances\n",
    "import scipy.sparse as sp\n",
    "import pandas as pd\n",
    "from lib.CST.T_datacls.utilities.graphtools import Wiener_index\n",
    "from tqdm import tqdm"
   ],
   "metadata": {
    "collapsed": false,
    "pycharm": {
     "name": "#%%\n"
    },
    "ExecuteTime": {
     "end_time": "2024-04-18T09:51:13.174955460Z",
     "start_time": "2024-04-18T09:51:10.792541151Z"
    }
   }
  },
  {
   "cell_type": "markdown",
   "source": [
    "Set parameters"
   ],
   "metadata": {
    "collapsed": false
   }
  },
  {
   "cell_type": "code",
   "execution_count": 4,
   "outputs": [],
   "source": [
    "save = False\n",
    "maxiter_mSTreg=20\n",
    "maxfreq_mSTreg=5\n",
    "\n",
    "alpha_ls=np.linspace(0,1,11)\n",
    "merging_criterium='tryall'\n",
    "order_criterium='closest'\n",
    "criterium_BP_position_update='median'\n",
    "\n",
    "num_samples=[50,100,250]\n",
    "num_problems = range(1, 8)"
   ],
   "metadata": {
    "collapsed": false,
    "pycharm": {
     "name": "#%%\n"
    },
    "ExecuteTime": {
     "end_time": "2024-04-18T09:51:13.212900385Z",
     "start_time": "2024-04-18T09:51:13.176011303Z"
    }
   }
  },
  {
   "cell_type": "markdown",
   "source": [
    "### Compute costs of the different algorithms"
   ],
   "metadata": {
    "collapsed": false
   }
  },
  {
   "cell_type": "code",
   "execution_count": 5,
   "outputs": [
    {
     "name": "stderr",
     "output_type": "stream",
     "text": [
      "Processing: 100%|███████████████████████████████████████████████████| 21/21 [00:45<00:00,  4.06s/it]"
     ]
    }
   ],
   "source": [
    "\n",
    "costs_mSTREG=np.zeros((len(num_problems),len(num_samples)))\n",
    "costs_NOmSTREG=np.zeros((len(num_problems),len(num_samples)))\n",
    "costs_campos=np.zeros((len(num_problems),len(num_samples)))\n",
    "costs_star=np.zeros((len(num_problems),len(num_samples)))\n",
    "\n",
    "\n",
    "pbar = tqdm(total=len(num_samples)*len(num_problems), desc=\"Processing\", ncols=100)\n",
    "for column,n in enumerate(num_samples):\n",
    "    for row,problem_number in enumerate(num_problems):\n",
    "        pbar.update(1)\n",
    "        P=load_ORdata_instance(n,problem_number)\n",
    "\n",
    "\n",
    "        alpha=1\n",
    "        tdata=T_data(P,verbose=False)\n",
    "        tdata.compute_BCST(alpha=alpha, maxiter_mSTreg=maxiter_mSTreg,\n",
    "                             maxfreq_mSTreg=maxfreq_mSTreg,order_criterium = order_criterium, merging_criterium = merging_criterium,\n",
    "                             criterium_BP_position_update = criterium_BP_position_update,\n",
    "                           init_topo='mST')\n",
    "\n",
    "        cost_mSTREG=tdata.trees['CST_%0.2f' % alpha].get_Wiener_index(alpha=alpha,normalize=False)\n",
    "\n",
    "        costs_mSTREG[row,column]=cost_mSTREG\n",
    "\n",
    "        tdata.compute_BCST(alpha=alpha,maxiter_mSTreg=-1,return_topo_CST=True,\n",
    "                           init_topo='mST')\n",
    "        cost_NOmSTREG = tdata.trees['CST_%0.2f' % alpha].get_Wiener_index(alpha=alpha,normalize=False)\n",
    "        costs_NOmSTREG[row, column] = cost_NOmSTREG\n",
    "\n",
    "        D=pairwise_distances(P)\n",
    "        T_campos=Campos_MRCT(D)\n",
    "        cost_campos=Wiener_index(T_campos,alpha=alpha)\n",
    "        costs_campos[row, column] = cost_campos\n",
    "\n",
    "        r = np.argmin(D.sum(1))\n",
    "        starT = sp.lil_matrix(D.shape)\n",
    "        starT[r] = D[r]\n",
    "        starT += starT.T\n",
    "        cost_star=Wiener_index(starT, alpha=alpha)\n",
    "        costs_star[row, column] = cost_star"
   ],
   "metadata": {
    "collapsed": false,
    "pycharm": {
     "name": "#%%\n"
    },
    "ExecuteTime": {
     "end_time": "2024-04-18T09:52:02.770745001Z",
     "start_time": "2024-04-18T09:51:13.208000223Z"
    }
   }
  },
  {
   "cell_type": "code",
   "execution_count": 6,
   "outputs": [],
   "source": [
    "\n",
    "\n",
    "costs_GRASP_PR=[983.5,901.3, 888.3,776.9,847.9,818.8,865.6,\n",
    "              3507.0,3307.9,3566.3,3448.1,3637.0,3436.5,3703.5,\n",
    "              22087.9,22770.7,21871.2,23422.7,22378.4,22290.3,22908.8]\n",
    "costs_df=pd.DataFrame(costs_GRASP_PR,\n",
    "                      columns=['GRASP_PR'],\n",
    "                      index=['e%i.%i'%(n,problem_number) for n,problem_number in itertools.product(num_samples,num_problems)])\n",
    "\n",
    "costs_df = costs_df.assign(Star=costs_star.T.flatten())\n",
    "costs_df = costs_df.assign(Campos=costs_campos.T.flatten())\n",
    "costs_df = costs_df.assign(mSTreg=costs_mSTREG.T.flatten())\n",
    "costs_df = costs_df.assign(mST_fulltopo=costs_NOmSTREG.T.flatten())\n",
    "\n",
    "\n",
    "costs_df['GAP% GRASP/mSTREG'] = costs_df.apply(lambda x: 100*(x['mSTreg']-x['GRASP_PR'])/x['GRASP_PR'] , axis=1)\n",
    "costs_df['GAP% GRASP/NOmSTREG'] = costs_df.apply(lambda x: 100*(x['mST_fulltopo']-x['GRASP_PR'])/x['GRASP_PR'] , axis=1)\n",
    "\n"
   ],
   "metadata": {
    "collapsed": false,
    "pycharm": {
     "name": "#%%\n"
    },
    "ExecuteTime": {
     "end_time": "2024-04-18T09:52:03.170666289Z",
     "start_time": "2024-04-18T09:52:02.772373217Z"
    }
   }
  },
  {
   "cell_type": "markdown",
   "source": [
    "### Plot relative error with respect to GRASP_PR cost\n"
   ],
   "metadata": {
    "collapsed": false
   }
  },
  {
   "cell_type": "code",
   "execution_count": 7,
   "outputs": [
    {
     "data": {
      "text/plain": "<Figure size 640x480 with 1 Axes>",
      "image/png": "[encoded data removed]"
     },
     "metadata": {},
     "output_type": "display_data"
    }
   ],
   "source": [
    "if save:\n",
    "    folder='Figures/ORlibrary_Benchamark/'\n",
    "    os.makedirs(folder,True)\n",
    "s=10\n",
    "fontsize=8\n",
    "i=0\n",
    "x=np.arange(0,len(costs_df))\n",
    "c='rgbm'\n",
    "f, ax = plt.subplots(1)\n",
    "for i,label in enumerate(['mSTreg','Star','Campos']):\n",
    "    y=np.array(100*(costs_df[label]/costs_GRASP_PR-1))\n",
    "    # y=np.concatenate([y,[np.mean(y)]])\n",
    "    plt.scatter(x, y, s=s, label=label, c=c[i])\n",
    "    plt.axhline(y=np.mean(y), c=c[i], linewidth=1, alpha=0.5, linestyle='-.', zorder=0, label='Mean %s' % label)\n",
    "# plt.xlabel('Problem instance')\n",
    "plt.ylabel('Relative Error')\n",
    "plt.xticks(x,[problem_idx for problem_idx in costs_df.index],\n",
    "           fontsize=fontsize,rotation=45, ha='center')\n",
    "plt.yticks( fontsize=fontsize)\n",
    "ax.set_ylim(bottom=0)\n",
    "plt.legend(fontsize=fontsize,loc='upper right')\n",
    "plt.grid('off')\n",
    "plt.tight_layout()\n",
    "# plt.yscale('log')\n",
    "if save:\n",
    "    plt.savefig(folder+'MRCT_gap.png',dpi=200)\n",
    "plt.show()"
   ],
   "metadata": {
    "collapsed": false,
    "pycharm": {
     "name": "#%%\n"
    },
    "ExecuteTime": {
     "end_time": "2024-04-18T09:52:03.549708602Z",
     "start_time": "2024-04-18T09:52:03.163441372Z"
    }
   }
  },
  {
   "cell_type": "code",
   "execution_count": 7,
   "outputs": [],
   "source": [],
   "metadata": {
    "collapsed": false,
    "pycharm": {
     "name": "#%%\n"
    },
    "ExecuteTime": {
     "end_time": "2024-04-18T09:52:03.550922653Z",
     "start_time": "2024-04-18T09:52:03.547094878Z"
    }
   }
  }
 ],
 "metadata": {
  "kernelspec": {
   "name": "cst_3.10",
   "language": "python",
   "display_name": "CST_3.10"
  },
  "language_info": {
   "codemirror_mode": {
    "name": "ipython",
    "version": 2
   },
   "file_extension": ".py",
   "mimetype": "text/x-python",
   "name": "python",
   "nbconvert_exporter": "python",
   "pygments_lexer": "ipython2",
   "version": "2.7.6"
  }
 },
 "nbformat": 4,
 "nbformat_minor": 0
}
