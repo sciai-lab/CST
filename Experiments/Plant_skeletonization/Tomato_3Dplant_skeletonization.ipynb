{
 "cells": [
  {
   "cell_type": "markdown",
   "source": [
    "# Plant skeletonization\n",
    "\n",
    "This Jupyter notebook replicates the plant skeletonization experiment, specifically focusing on a tomato plant at various growth stages (day 5, day 8, day 13). The notebook calculates Branched Central Spanning Trees (BCST) for different $\\alpha$ (alpha) values.\n",
    "\n",
    "The BCST computation is conducted in two scenarios:\n",
    "\n",
    "- **With Prior Knowledge:** In this scenario, prior knowledge about the tree's root is utilized.\n",
    "Instances of terminals corresponding to the root are duplicated, creating a simulated higher density in this specific location.\n",
    "- **Without Prior Knowledge:** In this case, BCST is computed without any prior information about the tree's root."
   ],
   "metadata": {
    "collapsed": false
   }
  },
  {
   "cell_type": "code",
   "execution_count": null,
   "metadata": {},
   "outputs": [],
   "source": [
    "get_ipython().run_line_magic('load_ext', 'autoreload')\n",
    "get_ipython().run_line_magic('autoreload', '2')\n"
   ]
  },
  {
   "cell_type": "code",
   "execution_count": null,
   "metadata": {},
   "outputs": [],
   "source": [
    "import os\n",
    "import sys\n",
    "if 'Plant_skeletonization' in os.getcwd():\n",
    "\tos.chdir('../..')\n",
    "\tsys.path.insert(0,os.getcwd())\n",
    "print(os.getcwd())\n",
    "print(sys.path[0])"
   ]
  },
  {
   "cell_type": "code",
   "execution_count": null,
   "metadata": {},
   "outputs": [],
   "source": [
    "import numpy as np\n",
    "import matplotlib.pyplot as plt\n",
    "from lib.CST.T_datacls import T_data\n",
    "from scipy.sparse import coo_matrix\n",
    "from lib.CST.utils.utils import factor_number\n",
    "import tempfile\n",
    "import os\n",
    "from PIL import Image\n",
    "# import scipy.sparse as sp\n",
    "\n",
    "from Experiments.Plant_skeletonization.visualization3D import visualize_data_3d,plot_graph_3d,generate_rotation_gif\n",
    "from Experiments.Plant_skeletonization.load_plantdata import load_plantdata"
   ]
  },
  {
   "cell_type": "markdown",
   "source": [
    "#### Functions to generate name of folders and filenames of the figures"
   ],
   "metadata": {
    "collapsed": false
   }
  },
  {
   "cell_type": "code",
   "execution_count": null,
   "metadata": {},
   "outputs": [],
   "source": [
    "def define_filename(key,alpha,n,prior=False):\n",
    "\tif prior:\n",
    "\t\tprior_txt='_prior'\n",
    "\telse:\n",
    "\t\tprior_txt=''\n",
    "\treturn '%s_n=%i_BCST_%0.2f%s'%(key,n,alpha,prior_txt)\n",
    "\n",
    "def define_foldername(plant_type,plant_num,n):\n",
    "\treturn 'Figures/plant_skeleton/%s_plant%i/n=%i/'%(plant_type,plant_num,n)\n"
   ]
  },
  {
   "cell_type": "markdown",
   "source": [
    "#### parameters"
   ],
   "metadata": {
    "collapsed": false
   }
  },
  {
   "cell_type": "code",
   "execution_count": null,
   "outputs": [],
   "source": [
    "tdata_dict={}\n"
   ],
   "metadata": {
    "collapsed": false,
    "pycharm": {
     "name": "#%%\n"
    }
   }
  },
  {
   "cell_type": "code",
   "execution_count": null,
   "outputs": [],
   "source": [
    "plant_type='tomato'\n",
    "plant_num=2 # plant instance\n",
    "\n",
    "seed=12\n",
    "\n",
    "#number samples\n",
    "n=5000\n",
    "\n",
    "#alpha values of the BCST\n",
    "alpha_ls=[0,0.5,0.7,1]\n",
    "\n",
    "#parameters BCST\n",
    "maxfreq_mSTreg=3\n",
    "maxiter_mSTreg=20\n",
    "\n",
    "# The power to which the values of the edge widths will be raised to improve visualization\n",
    "power_width=0.7\n",
    "\n",
    "#max edge-width\n",
    "max_width=15\n",
    "\n",
    "factor_rep=5\n",
    "\n",
    "# if true figures are saved\n",
    "save=False\n",
    "\n",
    "#if True gif will be generated\n",
    "generate_gif=False\n",
    "num_frames_gif=20\n",
    "\n",
    "\n",
    "offset_base_root_prior=10"
   ],
   "metadata": {
    "collapsed": false,
    "pycharm": {
     "name": "#%%\n"
    }
   }
  },
  {
   "cell_type": "markdown",
   "metadata": {
    "collapsed": false
   },
   "source": [
    "## DAY5"
   ]
  },
  {
   "cell_type": "markdown",
   "metadata": {
    "collapsed": false
   },
   "source": [
    "### Load data"
   ]
  },
  {
   "cell_type": "code",
   "execution_count": null,
   "metadata": {},
   "outputs": [],
   "source": [
    "np.random.seed(seed)\n",
    "#set day plant\n",
    "day=5\n",
    "\n",
    "# set visualization angles\n",
    "elevation_angle=30\n",
    "azimuthal_angle=30\n",
    "\n",
    "# load data\n",
    "data=load_plantdata(plant_type, plant_num, day)\n",
    "key='%s_plant%i_day%i'%(plant_type,plant_num,day)\n",
    "\n",
    "#subsample n points\n",
    "data_sub=data[np.random.choice(np.arange(data.shape[0]),n,replace=False)]\n",
    "\n",
    "visualize_data_3d(data_sub,title='Subsampled data with %i points'%n,show_plot=False,elevation_angle=elevation_angle,\n",
    "\t\t\t\t  azimuthal_angle=azimuthal_angle)"
   ]
  },
  {
   "cell_type": "markdown",
   "metadata": {
    "collapsed": false
   },
   "source": [
    "#### Compute BCST"
   ]
  },
  {
   "cell_type": "code",
   "execution_count": null,
   "metadata": {},
   "outputs": [],
   "source": [
    "\n",
    "\n",
    "tdata_dict[key]=T_data(data_sub)\n",
    "tdata=tdata_dict[key]\n",
    "\n",
    "for alpha in alpha_ls:\n",
    "\ttdata.compute_BCST(alpha=alpha,return_topo_CST=False,maxfreq_mSTreg=maxfreq_mSTreg,maxiter_mSTreg=maxiter_mSTreg)"
   ]
  },
  {
   "cell_type": "code",
   "execution_count": null,
   "metadata": {},
   "outputs": [],
   "source": [
    "tdata_prior=tdata_dict[key]\n",
    "\n",
    "k1,k2=factor_number(len(alpha_ls))\n",
    "\n",
    "\n",
    "separated = False\n",
    "\n",
    "folder_figures=define_foldername(plant_type,plant_num,n)\n",
    "\n",
    "if save:\n",
    "\tseparated=True\n",
    "\tos.makedirs(folder_figures,True)\n",
    "for counter_plot,alpha in enumerate(alpha_ls):\n",
    "\n",
    "\tT_flows=tdata.trees['BCST_%0.2f'%alpha].get_T_weighted_by_flows()\n",
    "\tif power_width!=1:\n",
    "\t\tT_flows.data**=power_width\n",
    "\tT_flows*=max_width/T_flows.max()\n",
    "\tcost=tdata.trees['BCST_%0.2f'%alpha].cost\n",
    "\n",
    "\tcoords=tdata.trees['BCST_%0.2f'%alpha].coords\n",
    "\n",
    "\tif separated:\n",
    "\t\tk1=k2=1\n",
    "\t\tcounter_plot=0\n",
    "\n",
    "\tif save:\n",
    "\t\ttitle=''\n",
    "\telse:\n",
    "\t\ttitle='BCST %0.2f'%(alpha)\n",
    "\tfig, ax=plot_graph_3d(T_flows,coords,node_size=1,node_colors=None,linewidth_multiplier=1,\n",
    "\t\t\t\t  title=title,show_plot=False,k1=k1,k2=k2,counter_plot=counter_plot,\n",
    "\t\t\t\t\t\t  figsize=(15,12),elevation_angle=elevation_angle,\n",
    "\t\t\t\t  azimuthal_angle=azimuthal_angle)\n",
    "\tif save:\n",
    "\t\tplt.tight_layout()\n",
    "\t\tfilename=define_filename(key,alpha,n,prior=False)\n",
    "\t\tplt.savefig(folder_figures+filename+'.png')\n",
    "\n",
    "\tif generate_gif:\n",
    "\t\tgenerate_rotation_gif(T_flows, coords, node_colors=None, node_size=1,\n",
    "                       title='BCST %0.2f'%alpha, edge_color='red',\n",
    "                       figsize=(15,12), num_frames=num_frames_gif, output_filename=folder_figures+filename+'.gif')\n",
    "plt.tight_layout()\n",
    "plt.show()"
   ]
  },
  {
   "cell_type": "code",
   "execution_count": null,
   "metadata": {},
   "outputs": [],
   "source": []
  },
  {
   "cell_type": "markdown",
   "metadata": {
    "collapsed": false
   },
   "source": [
    "#### Compute BCST with prior root"
   ]
  },
  {
   "cell_type": "code",
   "execution_count": null,
   "metadata": {},
   "outputs": [],
   "source": [
    "# set number of times root is repeated\n",
    "root_reps=factor_rep*len(data_sub)\n",
    "\n",
    "# identify root as the one with lowest z-coordinate\n",
    "root=np.argmin(data_sub[:,2])\n",
    "\n",
    "# consider also as roots the terminals are above a certain threshold from the lowest terminal\n",
    "pseudo_roots=np.where(data_sub[:,2]<=data_sub[root,2]+offset_base_root_prior)[0]\n",
    "\n",
    "#set mass of roots\n",
    "demands=-np.ones(data_sub.shape[0])/(data_sub.shape[0]+root_reps-1)\n",
    "for r in pseudo_roots:\n",
    "\tdemands[r]=1/(data_sub.shape[0]+root_reps-1)\n",
    "\tif r==root:\n",
    "\t\tdemands[root]=root_reps/len(pseudo_roots)/(data_sub.shape[0]+root_reps-1)\n",
    "\telse:\n",
    "\t\tdemands[r] = -root_reps / len(pseudo_roots) / (data_sub.shape[0] + root_reps - 1)\n",
    "\n",
    "tdata_dict[key+'_prior']=T_data(data_sub)\n",
    "tdata_prior=tdata_dict[key+'_prior']\n",
    "\n",
    "\n",
    "for alpha in alpha_ls:\n",
    "\ttdata_prior.compute_BCST(alpha=alpha,return_topo_CST=False,maxfreq_mSTreg=maxfreq_mSTreg,maxiter_mSTreg=maxiter_mSTreg,\n",
    "\t\t\t\t\t\t\t demands=demands)"
   ]
  },
  {
   "cell_type": "markdown",
   "source": [
    "#### Plot trees"
   ],
   "metadata": {
    "collapsed": false
   }
  },
  {
   "cell_type": "code",
   "execution_count": null,
   "metadata": {},
   "outputs": [],
   "source": [
    "tdata_prior=tdata_dict[key+'_prior']\n",
    "\n",
    "k1,k2=factor_number(len(alpha_ls))\n",
    "\n",
    "\n",
    "separated = False\n",
    "\n",
    "\n",
    "folder_figures=define_foldername(plant_type,plant_num,n)\n",
    "\n",
    "if save:\n",
    "\tseparated=True\n",
    "\tos.makedirs(folder_figures,True)\n",
    "\n",
    "for counter_plot,alpha in enumerate(alpha_ls):\n",
    "\n",
    "\tT_flows=tdata_prior.trees['BCST_%0.2f'%alpha].get_T_weighted_by_flows()\n",
    "\tif power_width!=1:\n",
    "\t\tT_flows.data**=power_width\n",
    "\tT_flows*=max_width/T_flows.max()\n",
    "\tcost=tdata_prior.trees['BCST_%0.2f'%alpha].cost\n",
    "\n",
    "\tcoords=tdata_prior.trees['BCST_%0.2f'%alpha].coords\n",
    "\n",
    "\tif separated:\n",
    "\t\tk1=k2=1\n",
    "\t\tcounter_plot=0\n",
    "\n",
    "\tif save:\n",
    "\t\ttitle=''\n",
    "\telse:\n",
    "\t\ttitle='BCST %0.2f'%(alpha)\n",
    "\tfig, ax=plot_graph_3d(T_flows,coords,node_size=1,node_colors=None,linewidth_multiplier=1,\n",
    "\t\t\t\t  title=title,show_plot=False,k1=k1,k2=k2,counter_plot=counter_plot,\n",
    "\t\t\t\t\t\t  figsize=(15,12),elevation_angle=elevation_angle,\n",
    "\t\t\t\t  azimuthal_angle=azimuthal_angle)\n",
    "\tif save:\n",
    "\t\tplt.tight_layout()\n",
    "\t\tfilename=define_filename(key,alpha,n,prior=True)\n",
    "\t\tplt.savefig(folder_figures+filename+'.png')\n",
    "\n",
    "\tif generate_gif:\n",
    "\t\tgenerate_rotation_gif(T_flows, coords, node_colors=None, node_size=1,\n",
    "                       title='BCST %0.2f'%alpha, edge_color='red',\n",
    "                       figsize=(15,12), num_frames=num_frames_gif, output_filename=folder_figures+filename+'.gif')\n",
    "\n",
    "plt.tight_layout()\n",
    "plt.show()"
   ]
  },
  {
   "cell_type": "markdown",
   "metadata": {
    "collapsed": false
   },
   "source": [
    "## DAY8"
   ]
  },
  {
   "cell_type": "markdown",
   "source": [
    "### Load data"
   ],
   "metadata": {
    "collapsed": false
   }
  },
  {
   "cell_type": "code",
   "execution_count": null,
   "metadata": {},
   "outputs": [],
   "source": [
    "np.random.seed(seed)\n",
    "#set day plant\n",
    "day=8\n",
    "\n",
    "# set visualization angles\n",
    "elevation_angle=30\n",
    "azimuthal_angle=-90\n",
    "\n",
    "# load data\n",
    "data=load_plantdata(plant_type, plant_num, day)\n",
    "key='%s_plant%i_day%i'%(plant_type,plant_num,day)\n",
    "\n",
    "#subsample n points\n",
    "data_sub=data[np.random.choice(np.arange(data.shape[0]),n,replace=False)]\n",
    "\n",
    "visualize_data_3d(data_sub,title='Subsampled data with %i points'%n,show_plot=False,elevation_angle=elevation_angle,\n",
    "\t\t\t\t  azimuthal_angle=azimuthal_angle)"
   ]
  },
  {
   "cell_type": "markdown",
   "metadata": {
    "collapsed": false
   },
   "source": [
    "#### Compute BCST"
   ]
  },
  {
   "cell_type": "code",
   "execution_count": null,
   "metadata": {},
   "outputs": [],
   "source": [
    "\n",
    "\n",
    "tdata_dict[key]=T_data(data_sub)\n",
    "tdata=tdata_dict[key]\n",
    "\n",
    "for alpha in alpha_ls:\n",
    "\ttdata.compute_BCST(alpha=alpha,return_topo_CST=False,maxfreq_mSTreg=maxfreq_mSTreg,maxiter_mSTreg=maxiter_mSTreg)"
   ]
  },
  {
   "cell_type": "markdown",
   "source": [
    "#### Plot trees"
   ],
   "metadata": {
    "collapsed": false
   }
  },
  {
   "cell_type": "code",
   "execution_count": null,
   "metadata": {},
   "outputs": [],
   "source": [
    "tdata=tdata_dict[key]\n",
    "\n",
    "k1,k2=factor_number(len(alpha_ls))\n",
    "\n",
    "\n",
    "separated = False\n",
    "\n",
    "\n",
    "folder_figures=define_foldername(plant_type,plant_num,n)\n",
    "\n",
    "if save:\n",
    "\tseparated=True\n",
    "\tos.makedirs(folder_figures,True)\n",
    "\n",
    "for counter_plot,alpha in enumerate(alpha_ls):\n",
    "\n",
    "\tT_flows=tdata.trees['BCST_%0.2f'%alpha].get_T_weighted_by_flows()\n",
    "\tif power_width!=1:\n",
    "\t\tT_flows.data**=power_width\n",
    "\tT_flows*=max_width/T_flows.max()\n",
    "\tcost=tdata.trees['BCST_%0.2f'%alpha].cost\n",
    "\n",
    "\tcoords=tdata.trees['BCST_%0.2f'%alpha].coords\n",
    "\n",
    "\tif separated:\n",
    "\t\tk1=k2=1\n",
    "\t\tcounter_plot=0\n",
    "\n",
    "\tif save:\n",
    "\t\ttitle=''\n",
    "\telse:\n",
    "\t\ttitle='BCST %0.2f'%(alpha)\n",
    "\tfig, ax=plot_graph_3d(T_flows,coords,node_size=1,node_colors=None,linewidth_multiplier=1,\n",
    "\t\t\t\t  title=title,show_plot=False,k1=k1,k2=k2,counter_plot=counter_plot,\n",
    "\t\t\t\t\t\t  figsize=(15,12),elevation_angle=elevation_angle,\n",
    "\t\t\t\t  azimuthal_angle=azimuthal_angle)\n",
    "\tif save:\n",
    "\t\tplt.tight_layout()\n",
    "\t\tfilename=define_filename(key,alpha,n,prior=False)\n",
    "\t\tplt.savefig(folder_figures+filename+'.png')\n",
    "\n",
    "\tif generate_gif:\n",
    "\t\tgenerate_rotation_gif(T_flows, coords, node_colors=None, node_size=1,\n",
    "                       title='BCST %0.2f'%alpha, edge_color='red',\n",
    "                       figsize=(15,12), num_frames=num_frames_gif, output_filename=folder_figures+filename+'.gif')\n",
    "plt.tight_layout()\n",
    "plt.show()"
   ]
  },
  {
   "cell_type": "code",
   "execution_count": null,
   "metadata": {},
   "outputs": [],
   "source": []
  },
  {
   "cell_type": "markdown",
   "metadata": {
    "collapsed": false
   },
   "source": [
    "#### Compute BCST with prior root"
   ]
  },
  {
   "cell_type": "code",
   "execution_count": null,
   "metadata": {},
   "outputs": [],
   "source": [
    "# set number of times root is repeated\n",
    "root_reps=factor_rep*len(data_sub)\n",
    "\n",
    "# identify root as the one with lowest z-coordinate\n",
    "root=np.argmin(data_sub[:,2])\n",
    "\n",
    "# consider also as roots the terminals are above a certain threshold from the lowest terminal\n",
    "pseudo_roots=np.where(data_sub[:,2]<=data_sub[root,2]+offset_base_root_prior)[0]\n",
    "\n",
    "#set mass of roots\n",
    "demands=-np.ones(data_sub.shape[0])/(data_sub.shape[0]+root_reps-1)\n",
    "for r in pseudo_roots:\n",
    "\tdemands[r]=1/(data_sub.shape[0]+root_reps-1)\n",
    "\tif r==root:\n",
    "\t\tdemands[root]=root_reps/len(pseudo_roots)/(data_sub.shape[0]+root_reps-1)\n",
    "\telse:\n",
    "\t\tdemands[r] = -root_reps / len(pseudo_roots) / (data_sub.shape[0] + root_reps - 1)\n",
    "\n",
    "tdata_dict[key+'_prior']=T_data(data_sub)\n",
    "tdata_prior=tdata_dict[key+'_prior']\n",
    "\n",
    "\n",
    "for alpha in alpha_ls:\n",
    "\ttdata_prior.compute_BCST(alpha=alpha,return_topo_CST=False,maxfreq_mSTreg=maxfreq_mSTreg,maxiter_mSTreg=maxiter_mSTreg,\n",
    "\t\t\t\t\t\t\t demands=demands)"
   ]
  },
  {
   "cell_type": "code",
   "execution_count": null,
   "metadata": {},
   "outputs": [],
   "source": [
    "tdata_prior=tdata_dict[key+'_prior']\n",
    "\n",
    "k1,k2=factor_number(len(alpha_ls))\n",
    "\n",
    "\n",
    "separated = False\n",
    "\n",
    "\n",
    "folder_figures=define_foldername(plant_type,plant_num,n)\n",
    "\n",
    "if save:\n",
    "\tseparated=True\n",
    "\tos.makedirs(folder_figures,True)\n",
    "\n",
    "for counter_plot,alpha in enumerate(alpha_ls):\n",
    "\n",
    "\tT_flows=tdata_prior.trees['BCST_%0.2f'%alpha].get_T_weighted_by_flows()\n",
    "\tif power_width!=1:\n",
    "\t\tT_flows.data**=power_width\n",
    "\tT_flows*=max_width/T_flows.max()\n",
    "\tcost=tdata_prior.trees['BCST_%0.2f'%alpha].cost\n",
    "\n",
    "\tcoords=tdata_prior.trees['BCST_%0.2f'%alpha].coords\n",
    "\n",
    "\tif separated:\n",
    "\t\tk1=k2=1\n",
    "\t\tcounter_plot=0\n",
    "\n",
    "\tif save:\n",
    "\t\ttitle=''\n",
    "\telse:\n",
    "\t\ttitle='BCST %0.2f'%(alpha)\n",
    "\tfig, ax=plot_graph_3d(T_flows,coords,node_size=1,node_colors=None,linewidth_multiplier=1,\n",
    "\t\t\t\t  title=title,show_plot=False,k1=k1,k2=k2,counter_plot=counter_plot,\n",
    "\t\t\t\t\t\t  figsize=(15,12),elevation_angle=elevation_angle,\n",
    "\t\t\t\t  azimuthal_angle=azimuthal_angle)\n",
    "\tif save:\n",
    "\t\tplt.tight_layout()\n",
    "\t\tfilename=define_filename(key,alpha,n,prior=True)\n",
    "\t\tplt.savefig(folder_figures+filename+'.png')\n",
    "\n",
    "\tif generate_gif:\n",
    "\t\tgenerate_rotation_gif(T_flows, coords, node_colors=None, node_size=1,\n",
    "                       title='BCST %0.2f'%alpha, edge_color='red',\n",
    "                       figsize=(15,12), num_frames=num_frames_gif, output_filename=folder_figures+filename+'.gif')\n",
    "plt.tight_layout()\n",
    "plt.show()"
   ]
  },
  {
   "cell_type": "markdown",
   "metadata": {
    "collapsed": false
   },
   "source": [
    "## DAY13"
   ]
  },
  {
   "cell_type": "markdown",
   "metadata": {
    "collapsed": false
   },
   "source": [
    "### Load data"
   ]
  },
  {
   "cell_type": "code",
   "execution_count": null,
   "metadata": {},
   "outputs": [],
   "source": [
    "np.random.seed(seed)\n",
    "#set day plant\n",
    "day=13\n",
    "\n",
    "# set visualization angles\n",
    "elevation_angle=None\n",
    "azimuthal_angle=None\n",
    "\n",
    "# load data\n",
    "data=load_plantdata(plant_type, plant_num, day)\n",
    "key='%s_plant%i_day%i'%(plant_type,plant_num,day)\n",
    "\n",
    "#subsample n points\n",
    "data_sub=data[np.random.choice(np.arange(data.shape[0]),n,replace=False)]\n",
    "\n",
    "visualize_data_3d(data_sub,title='Subsampled data with %i points'%n,show_plot=False,elevation_angle=elevation_angle,\n",
    "\t\t\t\t  azimuthal_angle=azimuthal_angle)"
   ]
  },
  {
   "cell_type": "markdown",
   "metadata": {
    "collapsed": false
   },
   "source": [
    "#### Compute BCST"
   ]
  },
  {
   "cell_type": "code",
   "execution_count": null,
   "metadata": {},
   "outputs": [],
   "source": [
    "tdata_dict[key]=T_data(data_sub)\n",
    "tdata=tdata_dict[key]\n",
    "\n",
    "for alpha in alpha_ls:\n",
    "\ttdata.compute_BCST(alpha=alpha,return_topo_CST=False,maxfreq_mSTreg=maxfreq_mSTreg,maxiter_mSTreg=maxiter_mSTreg)"
   ]
  },
  {
   "cell_type": "markdown",
   "source": [
    "#### Plot trees"
   ],
   "metadata": {
    "collapsed": false
   }
  },
  {
   "cell_type": "code",
   "execution_count": null,
   "metadata": {},
   "outputs": [],
   "source": [
    "tdata_prior=tdata_dict[key]\n",
    "\n",
    "k1,k2=factor_number(len(alpha_ls))\n",
    "\n",
    "\n",
    "separated = False\n",
    "\n",
    "\n",
    "folder_figures=define_foldername(plant_type,plant_num,n)\n",
    "\n",
    "if save:\n",
    "\tseparated=True\n",
    "\tos.makedirs(folder_figures,True)\n",
    "\n",
    "for counter_plot,alpha in enumerate(alpha_ls):\n",
    "\n",
    "\tT_flows=tdata.trees['BCST_%0.2f'%alpha].get_T_weighted_by_flows()\n",
    "\tif power_width!=1:\n",
    "\t\tT_flows.data**=power_width\n",
    "\tT_flows*=max_width/T_flows.max()\n",
    "\tcost=tdata.trees['BCST_%0.2f'%alpha].cost\n",
    "\n",
    "\tcoords=tdata.trees['BCST_%0.2f'%alpha].coords\n",
    "\n",
    "\tif separated:\n",
    "\t\tk1=k2=1\n",
    "\t\tcounter_plot=0\n",
    "\n",
    "\tif save:\n",
    "\t\ttitle=''\n",
    "\telse:\n",
    "\t\ttitle='BCST %0.2f'%(alpha)\n",
    "\tfig, ax=plot_graph_3d(T_flows,coords,node_size=1,node_colors=None,linewidth_multiplier=1,\n",
    "\t\t\t\t  title=title,show_plot=False,k1=k1,k2=k2,counter_plot=counter_plot,\n",
    "\t\t\t\t\t\t  figsize=(15,12),elevation_angle=elevation_angle,\n",
    "\t\t\t\t  azimuthal_angle=azimuthal_angle)\n",
    "\tif save:\n",
    "\t\tplt.tight_layout()\n",
    "\t\tfilename=define_filename(key,alpha,n,prior=False)\n",
    "\t\tplt.savefig(folder_figures+filename+'.png')\n",
    "\n",
    "\tif generate_gif:\n",
    "\t\tgenerate_rotation_gif(T_flows, coords, node_colors=None, node_size=1,\n",
    "                       title='BCST %0.2f'%alpha, edge_color='red',\n",
    "                       figsize=(15,12), num_frames=num_frames_gif, output_filename=folder_figures+filename+'.gif')\n",
    "\n",
    "plt.tight_layout()\n",
    "plt.show()"
   ]
  },
  {
   "cell_type": "markdown",
   "metadata": {
    "collapsed": false
   },
   "source": [
    "#### Compute BCST with prior root"
   ]
  },
  {
   "cell_type": "code",
   "execution_count": null,
   "metadata": {},
   "outputs": [],
   "source": [
    "# set number of times root is repeated\n",
    "root_reps=factor_rep*len(data_sub)\n",
    "\n",
    "# identify root as the one with lowest z-coordinate\n",
    "root=np.argmin(data_sub[:,2])\n",
    "\n",
    "# consider also as roots the terminals are above a certain threshold from the lowest terminal\n",
    "pseudo_roots=np.where(data_sub[:,2]<=data_sub[root,2]+offset_base_root_prior)[0]\n",
    "\n",
    "#set mass of roots\n",
    "demands=-np.ones(data_sub.shape[0])/(data_sub.shape[0]+root_reps-1)\n",
    "for r in pseudo_roots:\n",
    "\tdemands[r]=1/(data_sub.shape[0]+root_reps-1)\n",
    "\tif r==root:\n",
    "\t\tdemands[root]=root_reps/len(pseudo_roots)/(data_sub.shape[0]+root_reps-1)\n",
    "\telse:\n",
    "\t\tdemands[r] = -root_reps / len(pseudo_roots) / (data_sub.shape[0] + root_reps - 1)\n",
    "\n",
    "tdata_dict[key+'_prior']=T_data(data_sub)\n",
    "tdata_prior=tdata_dict[key+'_prior']\n",
    "\n",
    "\n",
    "for alpha in alpha_ls:\n",
    "\ttdata_prior.compute_BCST(alpha=alpha,return_topo_CST=False,maxfreq_mSTreg=maxfreq_mSTreg,maxiter_mSTreg=maxiter_mSTreg,\n",
    "\t\t\t\t\t\t\t demands=demands)"
   ]
  },
  {
   "cell_type": "markdown",
   "source": [
    "#### Plot trees"
   ],
   "metadata": {
    "collapsed": false
   }
  },
  {
   "cell_type": "code",
   "execution_count": null,
   "metadata": {
    "pycharm": {
     "name": "#%%\n"
    }
   },
   "outputs": [],
   "source": [
    "\n",
    "k1,k2=factor_number(len(alpha_ls))\n",
    "\n",
    "separated = False\n",
    "tdata_prior=tdata_dict[key+'_prior']\n",
    "\n",
    "\n",
    "folder_figures=define_foldername(plant_type,plant_num,n)\n",
    "if save:\n",
    "\tseparated=True\n",
    "\tos.makedirs(folder_figures,True)\n",
    "\n",
    "\n",
    "for counter_plot,alpha in enumerate(alpha_ls):\n",
    "\n",
    "\tT_flows=tdata_prior.trees['BCST_%0.2f'%alpha].get_T_weighted_by_flows()\n",
    "\tif power_width!=1:\n",
    "\t\tT_flows.data**=power_width\n",
    "\tT_flows*=max_width/T_flows.max()\n",
    "\tcost=tdata_prior.trees['BCST_%0.2f'%alpha].cost\n",
    "\n",
    "\tcoords=tdata_prior.trees['BCST_%0.2f'%alpha].coords\n",
    "\n",
    "\tif separated:\n",
    "\t\tk1=k2=1\n",
    "\t\tcounter_plot=0\n",
    "\n",
    "\tif save:\n",
    "\t\ttitle=''\n",
    "\telse:\n",
    "\t\ttitle='BCST %0.2f'%(alpha)\n",
    "\tfig, ax=plot_graph_3d(T_flows,coords,node_size=1,node_colors=None,linewidth_multiplier=1,\n",
    "\t\t\t\t  title=title,show_plot=False,k1=k1,k2=k2,counter_plot=counter_plot,\n",
    "\t\t\t\t\t\t  figsize=(15,12),elevation_angle=elevation_angle,\n",
    "\t\t\t\t  azimuthal_angle=azimuthal_angle)\n",
    "\tif save:\n",
    "\t\tplt.tight_layout()\n",
    "\t\tfilename=define_filename(key,alpha,n,prior=True)\n",
    "\t\tplt.savefig(folder_figures+filename+'.png')\n",
    "\n",
    "\tif generate_gif:\n",
    "\t\tgenerate_rotation_gif(T_flows, coords, node_colors=None, node_size=1,\n",
    "                       title='BCST %0.2f'%alpha, edge_color='red',\n",
    "                       figsize=(15,12), num_frames=num_frames_gif, output_filename=folder_figures+filename+'.gif')\n",
    "plt.tight_layout()\n",
    "plt.show()"
   ]
  }
 ],
 "metadata": {
  "kernelspec": {
   "name": "cst_3.10",
   "language": "python",
   "display_name": "CST_3.10"
  },
  "language_info": {
   "codemirror_mode": {
    "name": "ipython",
    "version": 2
   },
   "file_extension": ".py",
   "mimetype": "text/x-python",
   "name": "python",
   "nbconvert_exporter": "python",
   "pygments_lexer": "ipython2",
   "version": "2.7.6"
  }
 },
 "nbformat": 4,
 "nbformat_minor": 0
}
